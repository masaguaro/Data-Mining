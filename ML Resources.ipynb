{
 "cells": [
  {
   "cell_type": "markdown",
   "metadata": {},
   "source": [
    "### Resources List - Table of Contents\n",
    "* [Git](#git)\n",
    "* 2 - Topics\n",
    "    * [Linear Algebra](#books_algebra)\n",
    "        * Topic 1\n",
    "        * Topic 2\n",
    "    * [Machine Learning](#machine_learning)\n",
    "        * [Deep Learning](#deep_learning)\n"
   ]
  },
  {
   "cell_type": "markdown",
   "metadata": {},
   "source": [
    "#  Introduction to Linear Algebra by Gibert Strang <a class=\"anchor\" id='books_algebra'></a>\n",
    "\n",
    "[Click here to go to the book](http://math.mit.edu/~gs/linearalgebra/)\n",
    "\n",
    "* Here some content\n",
    "* Here another one"
   ]
  },
  {
   "cell_type": "code",
   "execution_count": null,
   "metadata": {},
   "outputs": [],
   "source": []
  },
  {
   "cell_type": "markdown",
   "metadata": {},
   "source": [
    "# Deep learning <a class=\"anchor\" id=\"deep_learning\"></a>\n",
    "\n",
    "Supervised learning involves observing several examples of a random vector $\\boldsymbol{x}$ and\n",
    "an associated value or vector $y$, and learning to predict $y$ from $x$, usually by\n",
    "estimating $p(y \\vert x)$."
   ]
  },
  {
   "cell_type": "code",
   "execution_count": 7,
   "metadata": {},
   "outputs": [
    {
     "data": {
      "text/html": [
       "<style>.rendered_html { font-size: 19px; }</style>"
      ],
      "text/plain": [
       "<IPython.core.display.HTML object>"
      ]
     },
     "metadata": {},
     "output_type": "display_data"
    }
   ],
   "source": []
  },
  {
   "cell_type": "code",
   "execution_count": 8,
   "metadata": {},
   "outputs": [
    {
     "data": {
      "text/html": [
       "<style>.rendered_html { font-size: 19px; }</style>"
      ],
      "text/plain": [
       "<IPython.core.display.HTML object>"
      ]
     },
     "metadata": {},
     "output_type": "display_data"
    }
   ],
   "source": []
  },
  {
   "cell_type": "code",
   "execution_count": null,
   "metadata": {},
   "outputs": [],
   "source": []
  }
 ],
 "metadata": {
  "kernelspec": {
   "display_name": "Python 3",
   "language": "python",
   "name": "python3"
  },
  "language_info": {
   "codemirror_mode": {
    "name": "ipython",
    "version": 3
   },
   "file_extension": ".py",
   "mimetype": "text/x-python",
   "name": "python",
   "nbconvert_exporter": "python",
   "pygments_lexer": "ipython3",
   "version": "3.7.3"
  }
 },
 "nbformat": 4,
 "nbformat_minor": 2
}
