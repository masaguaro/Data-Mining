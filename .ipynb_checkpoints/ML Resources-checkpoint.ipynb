{
 "cells": [
  {
   "cell_type": "markdown",
   "metadata": {},
   "source": [
    "# Resources List - Table of Contents\n",
    "   * [Git](#git)\n",
    "### Mathematics of Deep learning\n",
    "\n",
    "   * [Linear Algebra](#algebra)\n",
    "        * [Matrix Multiplication](#matrxmlt)\n",
    "        * [Dot product](#dotprod)\n",
    "        * [Linear dependance and span](#depenspan)\n",
    "        * [Norms](#norma)\n",
    "        * Special matrices and vectors:\n",
    "            * Diagonal\n",
    "            * Triangular\n",
    "            * Symmetric\n",
    "            * Orthogonal\n",
    "        * Eigendecomposition\n",
    "        * Singular Value Decomposition (SVD)\n",
    "        * Pseudo-inverse (Moore-Penrose)\n",
    "        * Trace operator\n",
    "        * Principal Component Analysis   \n",
    "   * [Probability](#probability)\n",
    "        * Random variable\n",
    "        * Probability distribution\n",
    "        * \n",
    "        \n",
    "   * [Deep Learning](#deep_learning)\n"
   ]
  },
  {
   "cell_type": "markdown",
   "metadata": {},
   "source": [
    "###  - Matrix Multiplication <a class=\"anchor\" id='matrxmlt'></a>\n",
    "\n",
    "The product operation of matrix $A_{mxn}$ and matrix $B_{nxp}$ is a matrix $C_{mxp}$ defined by $$C_{i,j}=\\sum_{k}^{}A_{i,k}B_{k,j} $$ Example: $\\begin{pmatrix}\n",
    "  1 & 0 & -1\\\\ \n",
    "  -1 & 1 & 0 \\\\\n",
    "  0  & -1 & 1\n",
    "\\end{pmatrix}$ $\\begin{pmatrix}\n",
    "  x_1\\\\ \n",
    "  x_2 \\\\\n",
    "  x_3\n",
    "\\end{pmatrix}$ $=$ $\\begin{pmatrix}\n",
    "  x_1 - x_3\\\\ \n",
    "  x_2 - x_1\\\\\n",
    "  x_3 - x_2\n",
    "\\end{pmatrix}$"
   ]
  },
  {
   "cell_type": "markdown",
   "metadata": {},
   "source": [
    "###  - Dot product <a class=\"anchor\" id='dotprod'></a>\n",
    "\n",
    "The dot product or inner product of vectors $v=(v_1,v_2)$ and $w=(w_1,w_2)$ is the number $v {\\Large.} w$\n",
    "is defined as: $v {\\Large.} w = v_1w_1 + v_2w_2$ \n",
    "\n",
    "$\\textit{Dot product zero means vectors are perpendicular}$ "
   ]
  },
  {
   "cell_type": "markdown",
   "metadata": {},
   "source": [
    "###  Introduction to Linear Algebra by Gibert Strang <a class=\"anchor\" id='algebra'></a>\n",
    "\n",
    "[Click here to go to the book](http://math.mit.edu/~gs/linearalgebra/)\n",
    "\n",
    "* Here some content\n",
    "* Here another one"
   ]
  },
  {
   "cell_type": "markdown",
   "metadata": {},
   "source": [
    "# Deep learning <a class=\"anchor\" id=\"deep_learning\"></a>\n",
    "\n",
    "Supervised learning involves observing several examples of a random vector $\\boldsymbol{x}$ and\n",
    "an associated value or vector $y$, and learning to predict $y$ from $x$, usually by\n",
    "estimating $p(y \\vert x)$."
   ]
  },
  {
   "cell_type": "code",
   "execution_count": 7,
   "metadata": {},
   "outputs": [
    {
     "data": {
      "text/html": [
       "<style>.rendered_html { font-size: 19px; }</style>"
      ],
      "text/plain": [
       "<IPython.core.display.HTML object>"
      ]
     },
     "metadata": {},
     "output_type": "display_data"
    }
   ],
   "source": []
  },
  {
   "cell_type": "code",
   "execution_count": 8,
   "metadata": {},
   "outputs": [
    {
     "data": {
      "text/html": [
       "<style>.rendered_html { font-size: 19px; }</style>"
      ],
      "text/plain": [
       "<IPython.core.display.HTML object>"
      ]
     },
     "metadata": {},
     "output_type": "display_data"
    }
   ],
   "source": []
  },
  {
   "cell_type": "code",
   "execution_count": null,
   "metadata": {},
   "outputs": [],
   "source": []
  }
 ],
 "metadata": {
  "kernelspec": {
   "display_name": "Python 3",
   "language": "python",
   "name": "python3"
  },
  "language_info": {
   "codemirror_mode": {
    "name": "ipython",
    "version": 3
   },
   "file_extension": ".py",
   "mimetype": "text/x-python",
   "name": "python",
   "nbconvert_exporter": "python",
   "pygments_lexer": "ipython3",
   "version": "3.7.4"
  }
 },
 "nbformat": 4,
 "nbformat_minor": 2
}
