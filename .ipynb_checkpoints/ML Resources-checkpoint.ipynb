{
 "cells": [
  {
   "cell_type": "markdown",
   "metadata": {},
   "source": [
    "# Resources List - Table of Contents\n",
    "   * [Git](#git)\n",
    "### Mathematics of Deep learning\n",
    "\n",
    "   * [Linear Algebra](#algebra)\n",
    "        * [Matrix Multiplication](#matrxmlt)\n",
    "        * [Dot product](#dotprod)\n",
    "        * [Linear dependance and span](#depenspan)\n",
    "        * [Norms](#norma)\n",
    "        * Special matrices and vectors:\n",
    "            * Diagonal\n",
    "            * Triangular\n",
    "            * Symmetric\n",
    "            * Orthogonal\n",
    "        * Eigendecomposition\n",
    "        * Singular Value Decomposition (SVD)\n",
    "        * Pseudo-inverse (Moore-Penrose)\n",
    "        * Trace operator\n",
    "        * Principal Component Analysis   \n",
    "   * [Probability](#probability)\n",
    "        * Random variable\n",
    "        * Probability distribution\n",
    "        * \n",
    "        \n",
    "   * [Deep Learning](#deep_learning)\n"
   ]
  },
  {
   "cell_type": "markdown",
   "metadata": {
    "cell_style": "center"
   },
   "source": [
    "###  - Git <a class=\"anchor\" id='git'></a>\n",
    "\n",
    "<style>\n",
    ".table td, #customers th {\n",
    "  border: 1px solid #ddd;\n",
    "  padding: 8px;\n",
    "}\n",
    "\n",
    ".table tr:nth-child(even){background-color: #f2f2f2;}\n",
    "\n",
    ".table tr:hover {background-color: #ddd;}\n",
    "\n",
    ".table th {\n",
    "  padding-top: 12px;\n",
    "  padding-bottom: 12px;\n",
    "  text-align: right;\n",
    "  background-color: #4CAF50;\n",
    "  color: white;\n",
    "}\n",
    "</style>\n",
    "\n",
    "\n",
    "<table style=\"width:100%\">\n",
    "  <tr>\n",
    "    <th style=\"text-align: left; width:40%;\" >Task </th>\n",
    "    <th style=\"text-align: left;\">Command</th>\n",
    "    <th style=\"text-align: left; width:40%;\">Example</th>\n",
    "    <th style=\"text-align: left;\">Reference</th>\n",
    "  </tr>\n",
    "    \n",
    "  <tr>\n",
    "    <td style=\"text-align: left;\">Create an empty Git repository or reinitialize an existing one </td>\n",
    "    <td style=\"text-align: left;\"> git init  </td>\n",
    "    <td style=\"text-align: left;\"> </td>\n",
    "    <td style=\"text-align: left;\"> </td>\n",
    "  </tr>\n",
    "\n",
    "  <tr>\n",
    "    <td style=\"text-align: left;\">Clones a repository into a newly created directory, creates remote-tracking branches for each branch in the cloned repository (visible using git branch --remotes), and creates and checks out an initial branch that is forked from the cloned repository’s currently active branch.</td>\n",
    "    <td style=\"text-align: left;\">  git clone  </td>\n",
    "    <td style=\"text-align: left;\"> git clone https://github.com/masaguaro/Data-Mining.git  </td>\n",
    "    <td style=\"text-align: left;\"> </td>\n",
    "  </tr>\n",
    "    \n",
    "  <tr>\n",
    "    <td style=\"text-align: left;\">Shows the commit logs. </td>\n",
    "    <td style=\"text-align: left;\">git log</td>\n",
    "    <td style=\"text-align: left;\"> </td>\n",
    "    <td style=\"text-align: left;\"> </td>\n",
    "  </tr>\n",
    "\n",
    "  <tr>\n",
    "    <td style=\"text-align: left;\">Displays paths that have differences between the index file and the current HEAD commit, paths that have differences between the working tree and the index file, and paths in the working tree that are not tracked by Git (and are not ignored by gitignore[5]). The first are what you would commit by running git commit; the second and third are what you could commit by running git add before running git commit. </td>\n",
    "    <td style=\"text-align: left;\">git status</td>\n",
    "    <td style=\"text-align: left;\"> </td>\n",
    "    <td style=\"text-align: left;\"> </td>\n",
    "  </tr>\n",
    "  \n",
    "  <tr>\n",
    "    <td style=\"text-align: left;\">This command updates the index using the current content found in the working tree, to prepare the content staged for the next commit. It typically adds the current content of existing paths as a whole, but with some options it can also be used to add content with only part of the changes made to the working tree files applied, or remove paths that do not exist in the working tree anymore.\n",
    "\n",
    "The \"index\" holds a snapshot of the content of the working tree, and it is this snapshot that is taken as the contents of the next commit. Thus after making any changes to the working tree, and before running the commit command, you must use the add command to add any new or modified files to the index. </td>\n",
    "    <td style=\"text-align: left;\"> git add  </td>\n",
    "    <td style=\"text-align: left;\"> git add .</td>\n",
    "    <td style=\"text-align: left;\"> [Difference between “git add -A” and “git add .”](https://stackoverflow.com/questions/572549/difference-between-git-add-a-and-git-add)</td>\n",
    "  </tr>\n",
    "\n",
    "  <tr>\n",
    "    <td style=\"text-align: left;\">Create a new commit containing the current contents of the index and the given log message describing the changes. The new commit is a direct child of HEAD, usually the tip of the current branch, and the branch is updated to point to it (unless no branch is associated with the working tree, in which case HEAD is \"detached\" as described in git-checkout[1]). </td>\n",
    "    <td style=\"text-align: left;\">git commit</td>\n",
    "    <td style=\"text-align: left;\">git commit –m \"Some commit message\" </td>\n",
    "    <td style=\"text-align: left;\"> </td>\n",
    "  </tr>\n",
    "\n",
    "\n",
    "</table>"
   ]
  },
  {
   "cell_type": "markdown",
   "metadata": {},
   "source": [
    "###  - Matrix Multiplication <a class=\"anchor\" id='matrxmlt'></a>\n",
    "\n",
    "The product operation of matrix $A_{mxn}$ and matrix $B_{nxp}$ is a matrix $C_{mxp}$ defined by $$C_{i,j}=\\sum_{k}^{}A_{i,k}B_{k,j} $$ Example: $\\begin{pmatrix}\n",
    "  1 & 0 & -1\\\\ \n",
    "  -1 & 1 & 0 \\\\\n",
    "  0  & -1 & 1\n",
    "\\end{pmatrix}$ $\\begin{pmatrix}\n",
    "  x_1\\\\ \n",
    "  x_2 \\\\\n",
    "  x_3\n",
    "\\end{pmatrix}$ $=$ $\\begin{pmatrix}\n",
    "  x_1 - x_3\\\\ \n",
    "  x_2 - x_1\\\\\n",
    "  x_3 - x_2\n",
    "\\end{pmatrix}$"
   ]
  },
  {
   "cell_type": "markdown",
   "metadata": {},
   "source": [
    "###  - Dot product <a class=\"anchor\" id='dotprod'></a>\n",
    "\n",
    "The dot product or inner product of vectors $v=(v_1,v_2)$ and $w=(w_1,w_2)$ is the number $v {\\Large.} w$\n",
    "is defined as: $v {\\Large.} w = v_1w_1 + v_2w_2$ \n",
    "\n",
    "$\\textit{Dot product zero means vectors are perpendicular}$ "
   ]
  },
  {
   "cell_type": "markdown",
   "metadata": {},
   "source": [
    "### Resources List - Table of Contents\n",
    "* [Git](#git)\n",
    "* 2 - Topics\n",
    "    * [Linear Algebra](#books_algebra)\n",
    "        * Topic 1\n",
    "        * Topic 2\n",
    "    * [Machine Learning](#machine_learning)\n",
    "        * [Deep Learning](#deep_learning)\n"
   ]
  },
  {
   "cell_type": "markdown",
   "metadata": {},
   "source": [
    "###  Introduction to Linear Algebra by Gibert Strang <a class=\"anchor\" id='algebra'></a>\n",
    "\n",
    "[Click here to go to the book](http://math.mit.edu/~gs/linearalgebra/)\n",
    "\n",
    "* Here some content\n",
    "* Here another one"
   ]
  },
  {
   "cell_type": "markdown",
   "metadata": {},
   "source": [
    "# Deep learning <a class=\"anchor\" id=\"deep_learning\"></a>\n",
    "\n",
    "Supervised learning involves observing several examples of a random vector $\\boldsymbol{x}$ and\n",
    "an associated value or vector $y$, and learning to predict $y$ from $x$, usually by\n",
    "estimating $p(y \\vert x)$."
   ]
  },
  {
   "cell_type": "code",
   "execution_count": null,
   "metadata": {},
   "outputs": [],
   "source": []
  }
 ],
 "metadata": {
  "kernelspec": {
   "display_name": "Python 3",
   "language": "python",
   "name": "python3"
  },
  "language_info": {
   "codemirror_mode": {
    "name": "ipython",
    "version": 3
   },
   "file_extension": ".py",
   "mimetype": "text/x-python",
   "name": "python",
   "nbconvert_exporter": "python",
   "pygments_lexer": "ipython3",
   "version": "3.7.3"
  }
 },
 "nbformat": 4,
 "nbformat_minor": 4
}
